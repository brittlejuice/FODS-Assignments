{
 "cells": [
  {
   "cell_type": "markdown",
   "metadata": {},
   "source": [
    "# Assignment 1-A"
   ]
  },
  {
   "cell_type": "markdown",
   "metadata": {},
   "source": [
    "## Graph Comparing all Polynomial Models from Degree 1 to Degree 9"
   ]
  },
  {
   "cell_type": "markdown",
   "metadata": {},
   "source": [
    "<img src=\"output.png\" align='left' width='500'>"
   ]
  },
  {
   "cell_type": "markdown",
   "metadata": {},
   "source": [
    "## Observations\n",
    "* Polynomials of Degree 1 and 2 underfit both the training and testing data as they are not complex enough to capture the data.\n",
    "\n",
    "* Polynomial of Degree 3 fits both the training and testing data well shown by the drastic drop in the Training and Testing Error. \n",
    "\n",
    "* Polynomials of Degree 4 - Degree 8 overfit the training data as they perform worse as compared to polynomial of Degree 3.\n",
    "\n",
    "* Polynomial of Degree 9 also fits both the training and testing data well."
   ]
  },
  {
   "cell_type": "markdown",
   "metadata": {},
   "source": [
    "## Conclusion :- \n",
    "\n",
    "#### Polynomial of Degree 3 and Degree 9 fits the given data well but polynomial of Degree 9 takes longer to train as compared to polynomial of Degree 3"
   ]
  },
  {
   "cell_type": "markdown",
   "metadata": {},
   "source": [
    "## Ploting Polynomial of Degree 3"
   ]
  },
  {
   "cell_type": "markdown",
   "metadata": {},
   "source": [
    "<img src=\"output1.png\" align='left' width='500'>"
   ]
  },
  {
   "cell_type": "markdown",
   "metadata": {},
   "source": [
    "### As we can observe our conclusion was right and Polynomial of Degree 3 fits the data."
   ]
  },
  {
   "cell_type": "markdown",
   "metadata": {},
   "source": [
    "# Assignment 1-B"
   ]
  },
  {
   "cell_type": "markdown",
   "metadata": {},
   "source": [
    "## Graph Comparing all Polynomial Models (Degree 1 - Degree 9) using Batch Gradient Descent"
   ]
  },
  {
   "cell_type": "markdown",
   "metadata": {},
   "source": [
    "<img src=\"output7.png\" align='left' width='500'>"
   ]
  },
  {
   "cell_type": "markdown",
   "metadata": {},
   "source": [
    "## Observations\n",
    "\n",
    "* Polynomials of Degree 1 and Degree 2 perform badly on the given dataset as they are not complex enought to capture the data.\n",
    "\n",
    "* Polynomial of Degree 3 fits the data well as shown by the drastic drop in error.\n",
    "\n",
    "* Polynomials of Degree 4 - Degree 6 overfit the data and perform worse as compared to Polynomial od Degree 3.\n",
    "\n",
    "* Polynomial of Degree 7 also fits the data very well even better as comapred to Polynomial of Degree 3.\n",
    "\n",
    "* Polynomial of Degree 8 and Degree 9 also overfit the data as they perform worse than Degree 7"
   ]
  },
  {
   "cell_type": "markdown",
   "metadata": {},
   "source": [
    "## Graph Comparing all Polynomial Models (Degree 1 - Degree 9) using Stochastic Gradient Descent"
   ]
  },
  {
   "cell_type": "markdown",
   "metadata": {},
   "source": [
    "<img src=\"output8.png\" align='left' width='500'>"
   ]
  },
  {
   "cell_type": "markdown",
   "metadata": {},
   "source": [
    "## Observations\n",
    "\n",
    "* Polynomials of Degree 1 - Degree 3 underfit the data.\n",
    "\n",
    "* Polynomial of Degree 4 and Degree 5 reduce the error considerably.\n",
    "\n",
    "* Polynomial of Degree 7 minimizes the errror for the data.\n",
    "\n",
    "* Polynomial of Degree 8 and 9 perform worse as comapred to Polynomial of Degree 7."
   ]
  },
  {
   "cell_type": "markdown",
   "metadata": {},
   "source": [
    "## Difference between Batch Gradient Descent and Stochastic Gradient Descent\n",
    "\n",
    "* Stochastic Gradient Descent reaches its minimum faster as compared to Batch Gradient Descent.\n",
    "\n",
    "* However, the minima achieved by the Batch Gradient Descent is lower as compared to Stochastic Gradient Descent.\n",
    "\n",
    "* For the given dataset, both Batch and Stochastic Gradient Descent show that Degree 7 is the polynomial that best fits the data.\n"
   ]
  },
  {
   "cell_type": "markdown",
   "metadata": {},
   "source": [
    "## Plotting Polynomial of Degree 7"
   ]
  },
  {
   "cell_type": "markdown",
   "metadata": {},
   "source": [
    "<img src=\"output9.png\" align='left' width='500'>"
   ]
  },
  {
   "cell_type": "markdown",
   "metadata": {},
   "source": [
    "## Poltting best fit graphs for regularization "
   ]
  },
  {
   "cell_type": "markdown",
   "metadata": {},
   "source": [
    "## For Q=0.5 and Lambda = 0.01"
   ]
  },
  {
   "cell_type": "markdown",
   "metadata": {},
   "source": [
    "<img src=\"output10.png\" align='left' width='500'>"
   ]
  },
  {
   "cell_type": "markdown",
   "metadata": {},
   "source": [
    "## For Q=1 and Lamba = 0.1"
   ]
  },
  {
   "cell_type": "markdown",
   "metadata": {},
   "source": [
    "<img src=\"output10.png\" align='left' width='500'>"
   ]
  },
  {
   "cell_type": "markdown",
   "metadata": {},
   "source": [
    "## For Q=2 and Lambda = 0.3"
   ]
  },
  {
   "cell_type": "markdown",
   "metadata": {},
   "source": [
    "<img src=\"output11.png\" align='left' width='500'>"
   ]
  },
  {
   "cell_type": "markdown",
   "metadata": {},
   "source": [
    "## For Q=4 and Lambda = 0.6"
   ]
  },
  {
   "cell_type": "markdown",
   "metadata": {},
   "source": [
    "<img src=\"output12.png\" align='left' width='500'>"
   ]
  },
  {
   "cell_type": "markdown",
   "metadata": {},
   "source": []
  }
 ],
 "metadata": {
  "kernelspec": {
   "display_name": "ml_env",
   "language": "python",
   "name": "python3"
  },
  "language_info": {
   "codemirror_mode": {
    "name": "ipython",
    "version": 3
   },
   "file_extension": ".py",
   "mimetype": "text/x-python",
   "name": "python",
   "nbconvert_exporter": "python",
   "pygments_lexer": "ipython3",
   "version": "3.10.12"
  },
  "orig_nbformat": 4
 },
 "nbformat": 4,
 "nbformat_minor": 2
}
